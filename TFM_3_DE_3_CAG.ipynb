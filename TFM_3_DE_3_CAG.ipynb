{
 "cells": [
  {
   "cell_type": "markdown",
   "id": "afea80f6",
   "metadata": {},
   "source": [
    "# 6.- MODELO 2: SVM"
   ]
  },
  {
   "cell_type": "markdown",
   "id": "a6406e79",
   "metadata": {},
   "source": [
    "SVMs pueden usarse como algoritmo de clasificación y regresión, en este caso es una clasifocación lo que estamos buscando, el cliente hará o no una reclamación económica.\n",
    "\n",
    "Dado un conjunto de muestras de entrenamiento, podemos etiquetar las clases y entrenar con ellas el modelo SVM, que nos servirá para predecir la clase de una nueva muestra.\n",
    "\n",
    "Una SVM representa los puntos de una muestra en el espacio, y separa las clases en dos espacios lo más amplios posibles, mediante un hiperplano de separación que se define por los 2 puntos de las 2 clases más cercanas, y que se llama vector soporte. Cuando utilizamos una nueva muestra sobre este modelo, podemos saber a qué clase pertenece, según si queda clasificada en un parte u en otra del hiperplano. Funcionan con un principio de discriminación, en el que buscamos un hiperplano para separar (clasificar) nuestros datos, que esté métricamente más separado de las observaciones. En problemas de varias dimensiones (variables), la aproximación común es generar una nueva dimensión (kernel), con la que podamos encontrar el hiperplano más facilmente."
   ]
  },
  {
   "cell_type": "code",
   "execution_count": 25,
   "id": "f44357f6",
   "metadata": {},
   "outputs": [],
   "source": [
    "#Importación de bibliotecas\n",
    "import numpy as np\n",
    "import matplotlib.pyplot as plt\n",
    "import pandas as pd"
   ]
  },
  {
   "cell_type": "code",
   "execution_count": 26,
   "id": "6a130fc2",
   "metadata": {},
   "outputs": [],
   "source": [
    "# Importo los datos\n",
    "df = pd.read_csv(\"df_finalVF.csv\",  sep = \";\")"
   ]
  },
  {
   "cell_type": "code",
   "execution_count": 27,
   "id": "bfb7bfe5",
   "metadata": {},
   "outputs": [
    {
     "data": {
      "text/html": [
       "<div>\n",
       "<style scoped>\n",
       "    .dataframe tbody tr th:only-of-type {\n",
       "        vertical-align: middle;\n",
       "    }\n",
       "\n",
       "    .dataframe tbody tr th {\n",
       "        vertical-align: top;\n",
       "    }\n",
       "\n",
       "    .dataframe thead th {\n",
       "        text-align: right;\n",
       "    }\n",
       "</style>\n",
       "<table border=\"1\" class=\"dataframe\">\n",
       "  <thead>\n",
       "    <tr style=\"text-align: right;\">\n",
       "      <th></th>\n",
       "      <th>Unnamed: 0.1</th>\n",
       "      <th>Unnamed: 0</th>\n",
       "      <th>DRIVING_EXPERIENCE</th>\n",
       "      <th>INCOME</th>\n",
       "      <th>VEHICLE_OWNERSHIP</th>\n",
       "      <th>MARRIED</th>\n",
       "      <th>CHILDREN</th>\n",
       "      <th>ANNUAL_MILEAGE</th>\n",
       "      <th>SPEEDING_VIOLATIONS</th>\n",
       "      <th>DUIS</th>\n",
       "      <th>PAST_ACCIDENTS</th>\n",
       "      <th>OUTCOME</th>\n",
       "      <th>GENDER_female</th>\n",
       "      <th>RACE_majority</th>\n",
       "      <th>VEHICLE_YEAR_before 2015</th>\n",
       "      <th>VEHICLE_TYPE_sedan</th>\n",
       "    </tr>\n",
       "  </thead>\n",
       "  <tbody>\n",
       "    <tr>\n",
       "      <th>0</th>\n",
       "      <td>0</td>\n",
       "      <td>0</td>\n",
       "      <td>0</td>\n",
       "      <td>2.0</td>\n",
       "      <td>1.0</td>\n",
       "      <td>0.0</td>\n",
       "      <td>1.0</td>\n",
       "      <td>12000.0</td>\n",
       "      <td>0</td>\n",
       "      <td>0</td>\n",
       "      <td>0</td>\n",
       "      <td>0.0</td>\n",
       "      <td>1</td>\n",
       "      <td>1</td>\n",
       "      <td>0</td>\n",
       "      <td>1</td>\n",
       "    </tr>\n",
       "    <tr>\n",
       "      <th>1</th>\n",
       "      <td>1</td>\n",
       "      <td>1</td>\n",
       "      <td>0</td>\n",
       "      <td>0.0</td>\n",
       "      <td>0.0</td>\n",
       "      <td>0.0</td>\n",
       "      <td>0.0</td>\n",
       "      <td>16000.0</td>\n",
       "      <td>0</td>\n",
       "      <td>0</td>\n",
       "      <td>0</td>\n",
       "      <td>1.0</td>\n",
       "      <td>0</td>\n",
       "      <td>1</td>\n",
       "      <td>1</td>\n",
       "      <td>1</td>\n",
       "    </tr>\n",
       "    <tr>\n",
       "      <th>2</th>\n",
       "      <td>2</td>\n",
       "      <td>2</td>\n",
       "      <td>0</td>\n",
       "      <td>1.0</td>\n",
       "      <td>1.0</td>\n",
       "      <td>0.0</td>\n",
       "      <td>0.0</td>\n",
       "      <td>11000.0</td>\n",
       "      <td>0</td>\n",
       "      <td>0</td>\n",
       "      <td>0</td>\n",
       "      <td>0.0</td>\n",
       "      <td>1</td>\n",
       "      <td>1</td>\n",
       "      <td>1</td>\n",
       "      <td>1</td>\n",
       "    </tr>\n",
       "    <tr>\n",
       "      <th>3</th>\n",
       "      <td>3</td>\n",
       "      <td>3</td>\n",
       "      <td>0</td>\n",
       "      <td>1.0</td>\n",
       "      <td>1.0</td>\n",
       "      <td>0.0</td>\n",
       "      <td>1.0</td>\n",
       "      <td>11000.0</td>\n",
       "      <td>0</td>\n",
       "      <td>0</td>\n",
       "      <td>0</td>\n",
       "      <td>0.0</td>\n",
       "      <td>0</td>\n",
       "      <td>1</td>\n",
       "      <td>1</td>\n",
       "      <td>1</td>\n",
       "    </tr>\n",
       "    <tr>\n",
       "      <th>4</th>\n",
       "      <td>4</td>\n",
       "      <td>4</td>\n",
       "      <td>1</td>\n",
       "      <td>1.0</td>\n",
       "      <td>1.0</td>\n",
       "      <td>0.0</td>\n",
       "      <td>0.0</td>\n",
       "      <td>12000.0</td>\n",
       "      <td>2</td>\n",
       "      <td>0</td>\n",
       "      <td>1</td>\n",
       "      <td>1.0</td>\n",
       "      <td>0</td>\n",
       "      <td>1</td>\n",
       "      <td>1</td>\n",
       "      <td>1</td>\n",
       "    </tr>\n",
       "  </tbody>\n",
       "</table>\n",
       "</div>"
      ],
      "text/plain": [
       "   Unnamed: 0.1  Unnamed: 0  DRIVING_EXPERIENCE  INCOME  VEHICLE_OWNERSHIP  \\\n",
       "0             0           0                   0     2.0                1.0   \n",
       "1             1           1                   0     0.0                0.0   \n",
       "2             2           2                   0     1.0                1.0   \n",
       "3             3           3                   0     1.0                1.0   \n",
       "4             4           4                   1     1.0                1.0   \n",
       "\n",
       "   MARRIED  CHILDREN  ANNUAL_MILEAGE  SPEEDING_VIOLATIONS  DUIS  \\\n",
       "0      0.0       1.0         12000.0                    0     0   \n",
       "1      0.0       0.0         16000.0                    0     0   \n",
       "2      0.0       0.0         11000.0                    0     0   \n",
       "3      0.0       1.0         11000.0                    0     0   \n",
       "4      0.0       0.0         12000.0                    2     0   \n",
       "\n",
       "   PAST_ACCIDENTS  OUTCOME  GENDER_female  RACE_majority  \\\n",
       "0               0      0.0              1              1   \n",
       "1               0      1.0              0              1   \n",
       "2               0      0.0              1              1   \n",
       "3               0      0.0              0              1   \n",
       "4               1      1.0              0              1   \n",
       "\n",
       "   VEHICLE_YEAR_before 2015  VEHICLE_TYPE_sedan  \n",
       "0                         0                   1  \n",
       "1                         1                   1  \n",
       "2                         1                   1  \n",
       "3                         1                   1  \n",
       "4                         1                   1  "
      ]
     },
     "execution_count": 27,
     "metadata": {},
     "output_type": "execute_result"
    }
   ],
   "source": [
    "df.head()"
   ]
  },
  {
   "cell_type": "code",
   "execution_count": 28,
   "id": "87d8bb2b",
   "metadata": {},
   "outputs": [],
   "source": [
    "df = df.drop(labels='ANNUAL_MILEAGE', axis=1)"
   ]
  },
  {
   "cell_type": "code",
   "execution_count": 29,
   "id": "7f72b9ce",
   "metadata": {},
   "outputs": [],
   "source": [
    "# Separo la variable target\n",
    "X = df.drop('OUTCOME', axis=1)\n",
    "y = df['OUTCOME']\n"
   ]
  },
  {
   "cell_type": "code",
   "execution_count": 30,
   "id": "7b1f632f",
   "metadata": {},
   "outputs": [],
   "source": [
    "# Separo Train / Test: Dejo un 80% del dataset para train y 20% para test\n",
    "from sklearn.model_selection import train_test_split\n",
    "X_train, X_test, y_train, y_test = train_test_split(X, y, test_size = 0.20)"
   ]
  },
  {
   "cell_type": "markdown",
   "id": "5280ed77",
   "metadata": {},
   "source": [
    "El SVM se lleva a cabo con un aumento de la dimensión (un hiperplano), para esto se usa el \" truco kernel\". Existen multitud de kernels distintos, en este modelo vamos a probar tres: 1) Kernel Polinómico, 2) Kernel Gaussiano, 3) Kernel Sigmoideo, para ver cual nos da mejor resultado a la hora de predecir una clasificación de la variable OUTCOME con este dataset\n",
    "\n"
   ]
  },
  {
   "cell_type": "markdown",
   "id": "4c2bfd8a",
   "metadata": {},
   "source": [
    "### 1) Kernel Polinomico"
   ]
  },
  {
   "cell_type": "code",
   "execution_count": 56,
   "id": "d9ae0f98",
   "metadata": {},
   "outputs": [
    {
     "data": {
      "text/plain": [
       "SVC(kernel='poly')"
      ]
     },
     "execution_count": 56,
     "metadata": {},
     "output_type": "execute_result"
    }
   ],
   "source": [
    "from sklearn.svm import SVC\n",
    "svclassifier = SVC(kernel=\"poly\", degree=3)\n",
    "svclassifier.fit(X_train, y_train)"
   ]
  },
  {
   "cell_type": "code",
   "execution_count": 57,
   "id": "a83d03d7",
   "metadata": {},
   "outputs": [],
   "source": [
    "# Las predicciones: aplicamos el modelo a Test a ver que resultados da\n",
    "y_pred = svclassifier.predict(X_test)"
   ]
  },
  {
   "cell_type": "code",
   "execution_count": 58,
   "id": "1c44cde8",
   "metadata": {},
   "outputs": [
    {
     "name": "stdout",
     "output_type": "stream",
     "text": [
      "[[1265    0]\n",
      " [ 544    0]]\n",
      "              precision    recall  f1-score   support\n",
      "\n",
      "         0.0       0.70      1.00      0.82      1265\n",
      "         1.0       0.00      0.00      0.00       544\n",
      "\n",
      "    accuracy                           0.70      1809\n",
      "   macro avg       0.35      0.50      0.41      1809\n",
      "weighted avg       0.49      0.70      0.58      1809\n",
      "\n"
     ]
    }
   ],
   "source": [
    "# Evaluamos los resultados del algoritmo en Test\n",
    "from sklearn.metrics import classification_report, confusion_matrix\n",
    "print(confusion_matrix(y_test, y_pred))\n",
    "print(classification_report(y_test, y_pred))"
   ]
  },
  {
   "cell_type": "markdown",
   "id": "cdf89f47",
   "metadata": {},
   "source": [
    "### B) Kernel Gaussiano"
   ]
  },
  {
   "cell_type": "code",
   "execution_count": 49,
   "id": "28caddfb",
   "metadata": {},
   "outputs": [
    {
     "data": {
      "text/plain": [
       "SVC()"
      ]
     },
     "execution_count": 49,
     "metadata": {},
     "output_type": "execute_result"
    }
   ],
   "source": [
    "from sklearn.svm import SVC\n",
    "svclassifier = SVC(kernel=\"rbf\")\n",
    "svclassifier.fit(X_train, y_train)"
   ]
  },
  {
   "cell_type": "code",
   "execution_count": 50,
   "id": "73c0ee69",
   "metadata": {},
   "outputs": [],
   "source": [
    "# Las predicciones: aplicamos el modelo a Test a ver que resultados da\n",
    "y_pred = svclassifier.predict(X_test)"
   ]
  },
  {
   "cell_type": "code",
   "execution_count": 51,
   "id": "438210b4",
   "metadata": {},
   "outputs": [
    {
     "name": "stdout",
     "output_type": "stream",
     "text": [
      "[[1265    0]\n",
      " [ 544    0]]\n",
      "              precision    recall  f1-score   support\n",
      "\n",
      "         0.0       0.70      1.00      0.82      1265\n",
      "         1.0       0.00      0.00      0.00       544\n",
      "\n",
      "    accuracy                           0.70      1809\n",
      "   macro avg       0.35      0.50      0.41      1809\n",
      "weighted avg       0.49      0.70      0.58      1809\n",
      "\n"
     ]
    }
   ],
   "source": [
    "# Evaluamos los resultados del algoritmo en Test\n",
    "from sklearn.metrics import classification_report, confusion_matrix\n",
    "print(confusion_matrix(y_test, y_pred))\n",
    "print(classification_report(y_test, y_pred))"
   ]
  },
  {
   "cell_type": "markdown",
   "id": "2ee2467d",
   "metadata": {},
   "source": [
    "## C) Núcleo sigmoideo"
   ]
  },
  {
   "cell_type": "code",
   "execution_count": 53,
   "id": "47ac6acf",
   "metadata": {},
   "outputs": [
    {
     "data": {
      "text/plain": [
       "SVC(kernel='sigmoid')"
      ]
     },
     "execution_count": 53,
     "metadata": {},
     "output_type": "execute_result"
    }
   ],
   "source": [
    "from sklearn.svm import SVC\n",
    "svclassifier = SVC(kernel=\"sigmoid\")\n",
    "svclassifier.fit(X_train, y_train)"
   ]
  },
  {
   "cell_type": "code",
   "execution_count": 54,
   "id": "82155ab9",
   "metadata": {},
   "outputs": [],
   "source": [
    "# Las predicciones: aplicamos el modelo a Test a ver que resultados da\n",
    "y_pred = svclassifier.predict(X_test)"
   ]
  },
  {
   "cell_type": "code",
   "execution_count": 55,
   "id": "c84da759",
   "metadata": {},
   "outputs": [
    {
     "name": "stdout",
     "output_type": "stream",
     "text": [
      "[[865 400]\n",
      " [369 175]]\n",
      "              precision    recall  f1-score   support\n",
      "\n",
      "         0.0       0.70      0.68      0.69      1265\n",
      "         1.0       0.30      0.32      0.31       544\n",
      "\n",
      "    accuracy                           0.57      1809\n",
      "   macro avg       0.50      0.50      0.50      1809\n",
      "weighted avg       0.58      0.57      0.58      1809\n",
      "\n"
     ]
    }
   ],
   "source": [
    "from sklearn.metrics import classification_report, confusion_matrix\n",
    "print(confusion_matrix(y_test, y_pred))\n",
    "print(classification_report(y_test, y_pred))"
   ]
  },
  {
   "cell_type": "markdown",
   "id": "819e359f",
   "metadata": {},
   "source": [
    "**CONCLUSIONES**\n",
    "\n",
    "Si comparamos el rendimiento de los diferentes tipos de kernel, podemos ver claramente que el sigmoide es el mejor. Esto se debe a que la función sigmoidea devuelve dos valores, 0 y 1, por lo que es más adecuada para problemas de clasificación binaria, como es nuestro caso. Sin embargo el nivel de falsos negativos que identifica es incluso mayor que los que acierta, y los falsos positivos son un 50% de los positivos que acierta. En conclusión su ratio de accuracy es solo del 57%.\n",
    "\n",
    "\n",
    "El kernel gaussiano y el kernel polinomial tienen un desempeño desempeñó ligeramente mejor en cuanto el accuracy (70%), pero no realizan nunca una clasificación negativa (ni cierta ni falsa). Además en cuanto al kernel polinomico, se han efectuado pruebas con diferentes grados /eg. degree=1, 2, 3, 4), dando siempre el mismo resultado insatisfactorio.\n",
    "\n",
    "La conclusión de este ejercicio es que el algorirmo SVM no realiza una buena labor a la hora de predecir una clasificación en este caso.\n"
   ]
  }
 ],
 "metadata": {
  "kernelspec": {
   "display_name": "Python 3 (ipykernel)",
   "language": "python",
   "name": "python3"
  },
  "language_info": {
   "codemirror_mode": {
    "name": "ipython",
    "version": 3
   },
   "file_extension": ".py",
   "mimetype": "text/x-python",
   "name": "python",
   "nbconvert_exporter": "python",
   "pygments_lexer": "ipython3",
   "version": "3.9.7"
  }
 },
 "nbformat": 4,
 "nbformat_minor": 5
}
